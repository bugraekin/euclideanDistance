{
 "cells": [
  {
   "cell_type": "code",
   "execution_count": 1,
   "id": "1b4e57a4-ac61-4577-b919-85e38bcf2cff",
   "metadata": {},
   "outputs": [
    {
     "name": "stdout",
     "output_type": "stream",
     "text": [
      "5.830951894845301\n"
     ]
    }
   ],
   "source": [
    "def kare(x):\n",
    "    return x*x\n",
    "def kök(x):\n",
    "    return x**0.5\n",
    "def euclideanDistance(x,y):\n",
    "    a=x[0]-y[0]\n",
    "    b=x[1]-y[1]\n",
    "    return kök(kare(a)+kare(b))\n",
    "points=[(2,5),(7,17),(7,8)]\n",
    "distances=[]\n",
    "for i in range(len(points)):\n",
    "    for z in range(i+1,len(points)):\n",
    "        distances.append(euclideanDistance(points[i],points[z]))\n",
    "min_distances=min(distances)\n",
    "print(min_distances)"
   ]
  },
  {
   "cell_type": "code",
   "execution_count": null,
   "id": "bfc58121-67cf-4fed-977a-ad7695bb6452",
   "metadata": {},
   "outputs": [],
   "source": []
  }
 ],
 "metadata": {
  "kernelspec": {
   "display_name": "Python 3 (ipykernel)",
   "language": "python",
   "name": "python3"
  },
  "language_info": {
   "codemirror_mode": {
    "name": "ipython",
    "version": 3
   },
   "file_extension": ".py",
   "mimetype": "text/x-python",
   "name": "python",
   "nbconvert_exporter": "python",
   "pygments_lexer": "ipython3",
   "version": "3.12.3"
  }
 },
 "nbformat": 4,
 "nbformat_minor": 5
}
